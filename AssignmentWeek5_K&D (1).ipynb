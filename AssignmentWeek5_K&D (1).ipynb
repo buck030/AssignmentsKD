{
 "cells": [
  {
   "cell_type": "markdown",
   "metadata": {},
   "source": [
    "# Assignment Netwerkanalyse"
   ]
  },
  {
   "cell_type": "markdown",
   "metadata": {},
   "source": [
    "## Notebook made by\n",
    "\n",
    "\n",
    "|Naam|Studentnummer|\n",
    "|-|-|\n",
    "| Soufiane Zouli | 12871060 |\n",
    "| Joana Al Ali | 11258985 |\n",
    "| Dennis de Buck | 12903000 |\n",
    "| Rogier Wesseling | 12868094 |\n",
    "\n",
    "## Peerreview\n",
    "\n",
    "* Vul onderstaande dict/tabel in en run de cel. Klopt het? Zijn jullie het er allemaal mee eens?\n",
    "    * Verander `1,2,3,4` door jullie studentnummers\n",
    "    * `1: {1:.2,2:.3,3:.3,4:.2}` betekent dat student 1 zijn punt zo over de 4 studenten verdeelt\n",
    "    * Let op, per student moeten de punten optellen tot 1!\n",
    "    * De gegeven punten staan in de tabel op de rijen, de ontvangen punten in de kolommen.\n",
    "    * met `cijfer_per_student` kan je bepalen welk cijfer ieder krijgt bij een gegeven groepscijfer."
   ]
  },
  {
   "cell_type": "code",
   "execution_count": 1,
   "metadata": {},
   "outputs": [
    {
     "name": "stdout",
     "output_type": "stream",
     "text": [
      "Cijfer per student:\n",
      " 12871060    0.9\n",
      "11258985    0.9\n",
      "12903000    1.3\n",
      "12868094    1.0\n",
      "dtype: float64\n"
     ]
    },
    {
     "data": {
      "text/html": [
       "<div>\n",
       "<style scoped>\n",
       "    .dataframe tbody tr th:only-of-type {\n",
       "        vertical-align: middle;\n",
       "    }\n",
       "\n",
       "    .dataframe tbody tr th {\n",
       "        vertical-align: top;\n",
       "    }\n",
       "\n",
       "    .dataframe thead th {\n",
       "        text-align: right;\n",
       "    }\n",
       "</style>\n",
       "<table border=\"1\" class=\"dataframe\">\n",
       "  <thead>\n",
       "    <tr style=\"text-align: right;\">\n",
       "      <th></th>\n",
       "      <th>12871060</th>\n",
       "      <th>11258985</th>\n",
       "      <th>12903000</th>\n",
       "      <th>12868094</th>\n",
       "    </tr>\n",
       "  </thead>\n",
       "  <tbody>\n",
       "    <tr>\n",
       "      <td>12871060</td>\n",
       "      <td>0.23</td>\n",
       "      <td>0.24</td>\n",
       "      <td>0.29</td>\n",
       "      <td>0.24</td>\n",
       "    </tr>\n",
       "    <tr>\n",
       "      <td>11258985</td>\n",
       "      <td>0.20</td>\n",
       "      <td>0.20</td>\n",
       "      <td>0.40</td>\n",
       "      <td>0.20</td>\n",
       "    </tr>\n",
       "    <tr>\n",
       "      <td>12903000</td>\n",
       "      <td>0.23</td>\n",
       "      <td>0.22</td>\n",
       "      <td>0.28</td>\n",
       "      <td>0.27</td>\n",
       "    </tr>\n",
       "    <tr>\n",
       "      <td>12868094</td>\n",
       "      <td>0.22</td>\n",
       "      <td>0.24</td>\n",
       "      <td>0.30</td>\n",
       "      <td>0.24</td>\n",
       "    </tr>\n",
       "  </tbody>\n",
       "</table>\n",
       "</div>"
      ],
      "text/plain": [
       "          12871060  11258985  12903000  12868094\n",
       "12871060      0.23      0.24      0.29      0.24\n",
       "11258985      0.20      0.20      0.40      0.20\n",
       "12903000      0.23      0.22      0.28      0.27\n",
       "12868094      0.22      0.24      0.30      0.24"
      ]
     },
     "execution_count": 1,
     "metadata": {},
     "output_type": "execute_result"
    },
    {
     "data": {
      "image/png": "[encoded data removed]",
      "text/plain": [
       "<Figure size 432x288 with 1 Axes>"
      ]
     },
     "metadata": {
      "needs_background": "light"
     },
     "output_type": "display_data"
    }
   ],
   "source": [
    "import pandas as pd\n",
    "%matplotlib inline\n",
    "\n",
    "def cijfer_per_student(weging,cijfer=1):\n",
    "    return round(weging*cijfer,1)\n",
    "\n",
    "weging= {\n",
    "        12871060: {12871060:.23,11258985:.24,12903000:.29,12868094:.24},\n",
    "        11258985: {12871060:.2,11258985:.2,12903000:.4,12868094:.2},\n",
    "        12903000: {12871060:.23,11258985:.22,12903000:.28,12868094:.27},\n",
    "        12868094: {12871060:.22,11258985:.24,12903000:.30,12868094:.24}\n",
    "        }\n",
    "# verander hier niks aan\n",
    "df= pd.DataFrame(weging).T\n",
    "assert all((df.sum(1)==1).values) # per student moeten de gewichten optellen tot 1\n",
    "df.sum().plot(kind='barh', title='Weging per student');\n",
    "print(\"Cijfer per student:\\n\",cijfer_per_student(df.sum()))\n",
    "df"
   ]
  },
  {
   "cell_type": "markdown",
   "metadata": {},
   "source": [
    "## Toelichting\n",
    "\n",
    "* De meeste opgaven worden automatisch nagekeken. Bij vrijwel alle opdrachten staan er een paar tests onder de opdracht, dit is voornamelijk om te zorgen dat je de juiste type output geeft. Dit zijn dus *NIET* alle tests, die komen er bij het graden nog bij.\n",
    "* Elke vraag is 1 punt waard, tenzij anders aangegeven. Soms is die punt onderverdeeld in deelpunten, maar niet altijd. \n",
    "\n",
    "## Voor het inleveren!\n",
    "\n",
    "* Pas niet de cellen aan, vooral niet die je niet kunt editen. Dit levert problemen op bij nakijken. Twijfel je of je per ongeluk iets hebt gewijzigd, kopieer dan bij inleveren je antwoorden naar een nieuw bestand, zodat het niet fout kan gaan.\n",
    "\n",
    "* Zorg dat de code goed runt van boven naar beneden, verifieer dat door boven in Kernel -> Restart & Run All uit te voeren\n",
    "\n",
    "## Na het inleveren!\n",
    "\n",
    "* Het gebeurt erg vaak dat mensen een \"leeg bestand\" inleveren. Vaak een andere versie van de opgave die nog ergens op je computer rondslingerde. Zonde van al je werk toch!\n",
    "* Dus, lever **minstens een half uur voor tijd in**. Download dan wat je hebt ingeleverd op Canvas. Geef het een andere naam om verwarring te voorkomen. En draai alle cellen, en bekijk het. Geen syntax fouten? Alle vragen gemaakt? Dan zit het vast wel goed, en hoef je niet in de zenuwen te zitten."
   ]
  },
  {
   "cell_type": "markdown",
   "metadata": {
    "toc": true
   },
   "source": [
    "<h1>Table of Contents<span class=\"tocSkip\"></span></h1>\n",
    "<div class=\"toc\"><ul class=\"toc-item\"><li><span><a href=\"#RDF-plus-RDFS-conversion\" data-toc-modified-id=\"RDF-plus-RDFS-conversion-1\"><span class=\"toc-item-num\">1&nbsp;&nbsp;</span>RDF plus RDFS conversion</a></span><ul class=\"toc-item\"><li><span><a href=\"#Vereisten\" data-toc-modified-id=\"Vereisten-1.1\"><span class=\"toc-item-num\">1.1&nbsp;&nbsp;</span>Vereisten</a></span></li><li><span><a href=\"#Grading\" data-toc-modified-id=\"Grading-1.2\"><span class=\"toc-item-num\">1.2&nbsp;&nbsp;</span>Grading</a></span></li></ul></li></ul></div>"
   ]
  },
  {
   "cell_type": "markdown",
   "metadata": {},
   "source": [
    "# RDF plus RDFS conversion\n",
    "\n",
    "* We will transform our family and LHBTI++ knowledge base into an RDF database and query it using SPARQL.\n",
    "* The idea is that **you create this notebook as a tutorial on working with `rdflib`**.\n",
    "* You will find many on the web, so search, watch and use the best what you can find to make a fun and top tutorial.\n",
    "\n",
    "## Vereisten\n",
    "\n",
    "1. `networkx2RDF(G)` takes any digraph G with additional node attributes and transform it to an RDF database.\n",
    "2. Maak SPARQL queries voor al je gedefinieerde relaties. \n",
    "    * Check dat de antwoorden identiek zijn.\n",
    "3. Download een andere triple store en maak daar juist een networkx graaf van (dat kan met rdflib), en bereken wat netwerk maten daarop.\n",
    "\n",
    "## Grading\n",
    "\n",
    "* Deze opdracht doen we met peergrading.\n",
    "* Ieder groepje kijkt alle anderen en zichzelf na en geeft ieder groepje een deel van in totaal 100 te verdelen  punten.\n",
    "* De eindscores transformeren we dan naar een cijfer tussen de 1 en 10. "
   ]
  },
  {
   "cell_type": "code",
   "execution_count": 8,
   "metadata": {},
   "outputs": [],
   "source": [
    "#!pip install rdflib\n",
    "# See https://rdflib.readthedocs.io/en/stable/gettingstarted.html\n",
    "from rdflib import  Graph\n",
    "import networkx as nx\n",
    "%matplotlib inline"
   ]
  },
  {
   "cell_type": "code",
   "execution_count": 9,
   "metadata": {},
   "outputs": [
    {
     "data": {
      "text/plain": [
       "<Graph identifier=Nd9b31c5d68c1410aae608b03e86208d7 (<class 'rdflib.graph.Graph'>)>"
      ]
     },
     "execution_count": 9,
     "metadata": {},
     "output_type": "execute_result"
    }
   ],
   "source": [
    "g=Graph()\n",
    "g.parse('http://dbpedia.org/resource/Michael_Jackson')"
   ]
  },
  {
   "cell_type": "code",
   "execution_count": 10,
   "metadata": {},
   "outputs": [
    {
     "data": {
      "text/plain": [
       "([(rdflib.term.URIRef('http://dbpedia.org/resource/American_Video_Awards'),\n",
       "   rdflib.term.URIRef('http://dbpedia.org/ontology/wikiPageWikiLink'),\n",
       "   rdflib.term.URIRef('http://dbpedia.org/resource/Michael_Jackson')),\n",
       "  (rdflib.term.URIRef('http://dbpedia.org/resource/Whitney_Houston_(album)'),\n",
       "   rdflib.term.URIRef('http://dbpedia.org/ontology/wikiPageWikiLink'),\n",
       "   rdflib.term.URIRef('http://dbpedia.org/resource/Michael_Jackson'))],\n",
       " 9368)"
      ]
     },
     "execution_count": 10,
     "metadata": {},
     "output_type": "execute_result"
    }
   ],
   "source": [
    "triples= [triple for triple in g]\n",
    "triples[:2], len(triples)"
   ]
  },
  {
   "cell_type": "code",
   "execution_count": 11,
   "metadata": {},
   "outputs": [
    {
     "data": {
      "text/plain": [
       "(rdflib.plugins.sparql.processor.SPARQLResult,\n",
       " 9368,\n",
       " [(rdflib.term.URIRef('http://dbpedia.org/resource/American_Video_Awards'),\n",
       "   rdflib.term.URIRef('http://dbpedia.org/ontology/wikiPageWikiLink'),\n",
       "   rdflib.term.URIRef('http://dbpedia.org/resource/Michael_Jackson')),\n",
       "  (rdflib.term.URIRef('http://dbpedia.org/resource/Whitney_Houston_(album)'),\n",
       "   rdflib.term.URIRef('http://dbpedia.org/ontology/wikiPageWikiLink'),\n",
       "   rdflib.term.URIRef('http://dbpedia.org/resource/Michael_Jackson'))])"
      ]
     },
     "execution_count": 11,
     "metadata": {},
     "output_type": "execute_result"
    }
   ],
   "source": [
    "qres = g.query(\"\"\"SELECT DISTINCT ?o ?p ?s WHERE {?o ?p ?s}\"\"\")\n",
    "\n",
    "type(qres), len(qres), list(qres)[:2]"
   ]
  },
  {
   "cell_type": "markdown",
   "metadata": {},
   "source": [
    "# 1. Het Netwerk\n",
    "### Om een RDF database te maken, moet er eerst een netwerk gedefinieerd zijn\n",
    "Dit kun je doen op de volgende manier. In dit voorbeeld gebruiken we 4 families, waarbij de edges(x,y) betekenen dat x ouder is van y. Ook is geslacht gedefinieerd."
   ]
  },
  {
   "cell_type": "code",
   "execution_count": 12,
   "metadata": {},
   "outputs": [],
   "source": [
    "RogierFam=[('Piet','Joost'), ('Tona','Joost'), ('Piet','Winfried'), ('Tona','Winfried'), ('Piet','Kimo'), ('Tona','Kimo'),('Piet','Ralph'), ('Tona','Ralph'),('Hermance','Lian'),('Hermance', 'Dick'), ('Otto','Lian'), ('Otto','Dick'),('Joost','Matthijs'),('Lian','Matthijs'),('Joost','Simone'), ('Lian','Simone'), ('Joost','Rogier'), ('Lian','Rogier'),('Ralph','Niels'), ('Ralph','Pepijn'), ('Ralph','Karlijn'),('Dick','Steven'), ('Saskia','Steven'), ('Dick','Tessa'), ('Saskia','Tessa'),('Kimo','Tijmen')]\n",
    "JoanaFam=[('Salim', 'Joana'), ('Salim', 'Serko'), ('Salim', 'Dara'), ('Salim', 'Djengo'), ('Salim', 'Kawa'), ('Salim', 'Chalat'), ('Salim', 'Lawien'), ('Amina', 'Joana'), ('Amina', 'Serko'), ('Amina', 'Dara'), ('Amina', 'Djengo'), ('Amina', 'Kawa'),('Amina', 'Chalat'), ('Amina', 'Lawien'), ('Kawa', 'Vyan'), ('Kawa', 'Helin'), ('Lawien', 'Odeus')]\n",
    "SoufianeFam=[('AbdelAziz', 'Soufiane'),('AbdelAziz','Yassin'),('AbdelAziz','Younes'),('AbdelAziz','Nora'),('Asisa', 'Soufiane'),('Asisa','Yassin'),('Asisa','Younes'),('Asisa','Nora'),('Youssef','Adam'),('Youssef','Leila'),('Youssef','Alina'),('Hakima','Adam'),('Hakima','Leila'),('Hakima','Alina')]\n",
    "DennisFam=[('Ron', 'Dennis'), ('Esther', 'Dennis'), ('Jasper', 'Ron'), ('Wilhelmina', 'Ron'), ('Jan', 'Esther'), ('Hannie', 'Esther'), ('Jan', 'Erik'), ('Hannie', 'Erik'), ('Erik', 'Cheyenne'), ('Erik', 'Zoë'), ('Yvonne', 'Cheyenne'), ('Yvonne', 'Zoë'), ('Jasper', 'Elly'), ('Wilhelmina', 'Elly'), ('Jasper', 'Richard'), ('Wilhelmina', 'Richard'), ('Elly', 'Vincent'), ('Willem', 'Vincent'), ('Vincent', 'Julliet'), ('Manon', 'Julliet'), ('Vincent', 'Olivier'), ('Manon', 'Olivier'), ('Arie', 'Jasper'), ('Elizabeth', 'Jasper')]\n",
    "\n",
    "G=nx.DiGraph()\n",
    "G.add_edges_from(RogierFam)\n",
    "G.add_edges_from(JoanaFam)\n",
    "G.add_edges_from(DennisFam)\n",
    "G.add_edges_from(SoufianeFam)\n",
    "\n",
    "Male={'Piet','Joost','Matthijs','Rogier','Winfried','Kimo','Tijmen','Ralph','Niels', 'Pepijn','Dick','Steven','Otto','Dennis', 'Ron', 'Jasper', 'Jan', 'Erik', 'Willem', 'Richard', 'Vincent', 'Olivier', 'Arie','AbdelAziz', 'Soufiane', 'Yassin', 'Younes', 'Youssef', 'Adam','Salim', 'Serko', 'Dara', 'Djengo', 'Kawa', 'Lawien', 'Odeus'}\n",
    "Female={'Tona','Hermance','Lian','Simone','Karlijn','Saskia','Tessa','Esther', 'Wilhelmina', 'Hannie', 'Cheyenne', 'Zoë', 'Yvonne', 'Elly', 'Manon', 'Julliet', 'Elizabeth','Asisa','Nora', 'Hakima', 'Leila', 'Alina','Joana', 'Chalat', 'Amina', 'Vyan', 'Helin'}\n",
    "\n",
    "for node in Male:\n",
    "    G.nodes[node]['M']=True\n",
    "    G.nodes[node]['V']=False\n",
    "for node in Female:\n",
    "    G.nodes[node]['M']=False \n",
    "    G.nodes[node]['V']=True"
   ]
  },
  {
   "cell_type": "markdown",
   "metadata": {},
   "source": [
    "Voor de LHBTQI+ community moet er ook eerst een netwerk gemaakt worden. In dit voorbeeld gebruiken wij een liefdes cirkel met tien personen, waarbij de edges (x,y) betekenen dat x zich seksueel aangetrokken voelt tot y. "
   ]
  },
  {
   "cell_type": "code",
   "execution_count": 13,
   "metadata": {},
   "outputs": [],
   "source": [
    "LHBTQfam = [('Lisa','Sarah'), ('Tim','Lisa'), ('Tim','Tom'), ('Tom','Clara'), ('Clara','Gijs')\n",
    "                 , ('Gijs','Pim'), ('Clara','Amy'), ('Amy','Laura')\n",
    "                 , ('Laura','Koen')]\n",
    "\n",
    "H = nx.DiGraph()\n",
    "H.add_edges_from(LHBTQfam)\n",
    "\n",
    "Male = {'Tim','Gijs','Koen', 'Pim', 'Tom'}\n",
    "Female = {'Sarah','Clara','Lisa','Amy', 'Laura'}\n",
    "\n",
    "for n in Male:\n",
    "    H.nodes[n]['M']=True\n",
    "    H.nodes[n]['V']=False\n",
    "for n in Female:\n",
    "    H.nodes[n]['M']=False\n",
    "    H.nodes[n]['V']=True"
   ]
  },
  {
   "cell_type": "markdown",
   "metadata": {},
   "source": [
    "# 2. Omschrijven naar RDF\n",
    "### RDF is een vorm van een database\n",
    "In deze databasevorm wordt er gebruik gemaakt van triples. Deze triples hebben een vaste vorm, namelijk: Subject, Predicate, Object. Bijvoorbeeld : (\"Maarten Marx\", \" Geslacht\", \"Man\"). Hier is Maarten Marx het subject, geslacht het predicaat en Man is het object. Hier staat dus: Maarten Marx is van het Mannelijke geslacht.\n",
    "\n",
    "We schrijven een functie die een netwerkx graaf omschrijft naar een RDF database.\n",
    "\n",
    "Om te beginnen moet er voor elke persoon in het netwerk een aparte code gemaakt worden. Deze komt in de vorm \"http://example.org/subject\" te staan. In het voorbeeld hierboven is deze code bijvoorbeeld: \"http://example.org/MaartenMarx\"\n",
    "Omdat elk persoon een eigen naam heeft, gebruiken we {} en vullen we deze daarna in met .format(node). Hierdoor krijgt elk persoon zijn eigen code.\n",
    "\n",
    "Vervolgens willen we bij elke persoon in onze graaf een geslacht meegeven. We maken hiervoor een propositie op FOAF basis.\n",
    "We kijken of een persoon man of vrouw is, en zetten dit vervolgens als triple in de rdf graaf\n",
    "\n",
    "Om het netwerk volledig in een RDF graaf te zetten, moet gedefinieerd worden dat bij elke edge, de eerste node een ouder is van de tweede node. Hiervoor hebben wij ook een FOAF propositie aangemaakt, FOAF.parent.\n"
   ]
  },
  {
   "cell_type": "code",
   "execution_count": 14,
   "metadata": {},
   "outputs": [],
   "source": [
    "import rdflib\n",
    "from rdflib import Graph, Literal, RDF, URIRef, Namespace\n",
    "# rdflib knows about some namespaces, like FOAF\n",
    "from rdflib.namespace import FOAF, XSD\n",
    "\n",
    "def networkx2RDF(G):\n",
    "    rdf = Graph()\n",
    "    \n",
    "    # Make variables\n",
    "    EX = Namespace(\"http://example.org/\")\n",
    "    FOAF.parent = rdflib.term.URIRef(\"http://xmlns.com/foaf/0.1/parent\")\n",
    "    FOAF.gender = rdflib.term.URIRef(\"http://xmlns.com/foaf/0.1/gender\")\n",
    "\n",
    "    for node in G.nodes():\n",
    "        # Create an RDF URI node to use as the subject for multiple triples\n",
    "        subject = EX[\"{}\".format(node)]\n",
    "        rdf.add((subject, RDF.type, FOAF.Person))\n",
    "        rdf.add((subject, FOAF.name, Literal(node)))\n",
    "        \n",
    "        # Add gender as triple\n",
    "        if G.nodes[node]['M']==True:\n",
    "            rdf.add((subject, FOAF.gender, Literal(\"Male\")))\n",
    "        if G.nodes[node]['V']==True:\n",
    "            rdf.add((subject, FOAF.gender, Literal(\"Female\")))\n",
    "            \n",
    "    # Add parent of child as triple\n",
    "    for edge in G.edges():\n",
    "        rdf.add((EX[\"{}\".format(edge[0])],FOAF.parent, EX[\"{}\".format(edge[1])]))\n",
    "\n",
    "    return rdf\n",
    "\n",
    "ab = networkx2RDF(G)\n",
    "lhb = networkx2RDF(H)\n",
    "\n"
   ]
  },
  {
   "cell_type": "markdown",
   "metadata": {},
   "source": [
    "# 3. Query's schrijven\n",
    "### De RDF database doorzoeken\n",
    "\n",
    "Wanneer de functie klaar is, moet er informatie uit de database gehaald kunnen worden. Door als het ware een vraag te stellen aan de database, krijg je een antwoord. Dit gebeurt in de taal van SPARQL. Dit is een taal waarbij query's gemakkelijk opgesteld kunnen worden. \n",
    "\n",
    "Dit gaat in een bepaalde vorm: SELECT ..... WHERE .... Dit staat voor: Geef me alle .... waar ... van toepassing is. \n",
    "\n",
    "In het onderstaande voorbeeld vragen wij 2 namen: ?aname en ?bname, waar ?a ouder is van ?b en waar ?a een man is. In normale taal betekent dit geef alle vaders. In SPARQL taal zoeken we alle relaties door, en kijkt hij bij elke relatie wie ouder is van wie, welk geslacht de ouder heeft, en pakt hij de namen van de ouders en kinderen. Als iemand man en ouder is, geeft SPARQL ons de naam van de vader en zijn kind. \n",
    "Al deze paren van vader en kind worden in een aparte database doorgegeven aan ons. Vervolgens kunnen wij voor elke rij in de database printen:  ?aname is de vader van ?bname. \n",
    "\n",
    "Daaronder zie je hetzelfde voorbeeld, maar dan voor moeders. Nu wordt er uiteraard gezocht naar elke ouder met het vrouwelijk geslacht.\n",
    "Op deze manier kunnen wij alle familierelaties definieren. "
   ]
  },
  {
   "cell_type": "code",
   "execution_count": 15,
   "metadata": {},
   "outputs": [
    {
     "name": "stdout",
     "output_type": "stream",
     "text": [
      "Ron is de vader van Dennis\n",
      "Kimo is de vader van Tijmen\n",
      "Vincent is de vader van Julliet\n",
      "Vincent is de vader van Olivier\n",
      "Lawien is de vader van Odeus\n"
     ]
    }
   ],
   "source": [
    "Vader = ab.query(\n",
    "    \"\"\"SELECT DISTINCT ?aname ?bname\n",
    "       WHERE {\n",
    "          ?a foaf:parent ?b.\n",
    "          ?a foaf:gender \"Male\".\n",
    "          ?a foaf:name ?aname.\n",
    "          ?b foaf:name ?bname.\n",
    "       }\"\"\",initNs = { \"foaf\": FOAF })\n",
    "\n",
    "Vaders= [i for i in Vader]\n",
    "for i in Vaders[:5]:\n",
    "    print(\"%s is de vader van %s\" %i)"
   ]
  },
  {
   "cell_type": "code",
   "execution_count": 16,
   "metadata": {},
   "outputs": [
    {
     "name": "stdout",
     "output_type": "stream",
     "text": [
      "Amina is de moeder van Dara\n",
      "Amina is de moeder van Serko\n",
      "Amina is de moeder van Kawa\n",
      "Amina is de moeder van Djengo\n",
      "Amina is de moeder van Joana\n"
     ]
    }
   ],
   "source": [
    "Moeder = ab.query(\n",
    "    \"\"\"SELECT DISTINCT ?aname ?bname\n",
    "       WHERE {\n",
    "          ?a foaf:parent ?b.\n",
    "          ?a foaf:gender \"Female\".\n",
    "          ?a foaf:name ?aname.\n",
    "          ?b foaf:name ?bname.\n",
    "       }\"\"\",initNs = { \"foaf\": FOAF })\n",
    "\n",
    "Moeders= [i for i in Moeder]\n",
    "for i in Moeders[:5]:\n",
    "    print(\"%s is de moeder van %s\" %i)"
   ]
  },
  {
   "cell_type": "markdown",
   "metadata": {},
   "source": [
    "### Ook voor de andere familierelaties hebben wij query's gemaakt. Deze vind je hieronder:"
   ]
  },
  {
   "cell_type": "code",
   "execution_count": 17,
   "metadata": {},
   "outputs": [
    {
     "name": "stdout",
     "output_type": "stream",
     "text": [
      "Odeus is de neef van Vyan\n",
      "Odeus is de neef van Helin\n",
      "Vincent is de neef van Dennis\n",
      "Niels is de neef van Tijmen\n",
      "Niels is de neef van Simone\n",
      "Karlijn is de nicht van Tijmen\n",
      "Karlijn is de nicht van Simone\n",
      "Karlijn is de nicht van Rogier\n",
      "Karlijn is de nicht van Matthijs\n",
      "Zoë is de nicht van Dennis\n",
      "Joana is de tante van Vyan\n",
      "Joana is de tante van Helin\n",
      "Joana is de tante van Odeus\n",
      "Esther is de tante van Zoë\n",
      "Esther is de tante van Cheyenne\n",
      "Odeus is de zoon van Lawien\n",
      "Ron is de zoon van Wilhelmina\n",
      "Ron is de zoon van Jasper\n",
      "Adam is de zoon van Hakima\n",
      "Adam is de zoon van Youssef\n",
      "Alina is de dochter van Youssef\n",
      "Alina is de dochter van Hakima\n",
      "Joana is de dochter van Amina\n",
      "Joana is de dochter van Salim\n",
      "Esther is de dochter van Jan\n",
      "Ron is de broer van Elly\n",
      "Ron is de broer van Richard\n",
      "Adam is de broer van Leila\n",
      "Adam is de broer van Alina\n",
      "Kimo is de broer van Joost\n",
      "Alina is de zus van Leila\n",
      "Alina is de zus van Adam\n",
      "Joana is de zus van Dara\n",
      "Joana is de zus van Serko\n",
      "Joana is de zus van Kawa\n",
      "Jan is de opa van Dennis\n",
      "Jan is de opa van Zoë\n",
      "Jan is de opa van Cheyenne\n",
      "Jasper is de opa van Vincent\n",
      "Jasper is de opa van Dennis\n",
      "Amina is de oma van Vyan\n",
      "Amina is de oma van Helin\n",
      "Amina is de oma van Odeus\n",
      "Elly is de oma van Julliet\n",
      "Elly is de oma van Olivier\n",
      "Ron is de oom van Vincent\n",
      "Kimo is de oom van Simone\n",
      "Kimo is de oom van Rogier\n",
      "Kimo is de oom van Matthijs\n",
      "Kimo is de oom van Karlijn\n"
     ]
    }
   ],
   "source": [
    "Zoon = ab.query(\n",
    "    \"\"\"SELECT DISTINCT ?aname ?bname\n",
    "       WHERE {\n",
    "          ?b foaf:parent ?a.\n",
    "          ?a foaf:name ?aname.\n",
    "          ?a foaf:gender \"Male\".\n",
    "          ?b foaf:name ?bname.\n",
    "          \n",
    "       }\"\"\",initNs = { \"foaf\": FOAF })\n",
    "\n",
    "Dochter = ab.query(\n",
    "    \"\"\"SELECT DISTINCT ?aname ?bname\n",
    "       WHERE {\n",
    "          ?b foaf:parent ?a.\n",
    "          ?a foaf:name ?aname.\n",
    "          ?a foaf:gender \"Female\".\n",
    "          ?b foaf:name ?bname.\n",
    "          \n",
    "       }\"\"\",initNs = { \"foaf\": FOAF })\n",
    "\n",
    "Opa = ab.query(\n",
    "    \"\"\"SELECT DISTINCT ?aname ?cname\n",
    "       WHERE {\n",
    "          ?a foaf:parent ?b.\n",
    "          ?b foaf:parent ?c.\n",
    "          ?a foaf:name ?aname.\n",
    "          ?a foaf:gender \"Male\".\n",
    "          ?c foaf:name ?cname.\n",
    "       }\"\"\",initNs = { \"foaf\": FOAF })\n",
    "\n",
    "Oma = ab.query(\n",
    "    \"\"\"SELECT DISTINCT ?aname ?cname\n",
    "       WHERE {\n",
    "          ?a foaf:parent ?b.\n",
    "          ?b foaf:parent ?c.\n",
    "          ?a foaf:name ?aname.\n",
    "          ?a foaf:gender \"Female\".\n",
    "          ?c foaf:name ?cname.\n",
    "       }\"\"\",initNs = { \"foaf\": FOAF })\n",
    "    \n",
    "Zus = ab.query(\n",
    "    \"\"\"SELECT DISTINCT ?aname ?cname\n",
    "       WHERE {\n",
    "          ?b foaf:parent ?a.\n",
    "          ?b foaf:parent ?c.\n",
    "          ?a foaf:name ?aname.\n",
    "          ?a foaf:gender \"Female\".\n",
    "          ?c foaf:name ?cname.\n",
    "          FILTER(?a != ?c) .\n",
    "       }\"\"\",initNs = { \"foaf\": FOAF })\n",
    "\n",
    "Broer = ab.query(\n",
    "    \"\"\"SELECT DISTINCT ?aname ?cname\n",
    "       WHERE {\n",
    "          ?b foaf:parent ?a.\n",
    "          ?b foaf:parent ?c.\n",
    "          ?a foaf:name ?aname.\n",
    "          ?a foaf:gender \"Male\".\n",
    "          ?c foaf:name ?cname.\n",
    "          FILTER(?a != ?c) .\n",
    "       }\"\"\",initNs = { \"foaf\": FOAF })\n",
    "\n",
    "Oom = ab.query(\n",
    "    \"\"\"SELECT DISTINCT ?aname ?bname\n",
    "       WHERE {\n",
    "          ?d foaf:parent ?a.\n",
    "          ?d foaf:parent ?c.\n",
    "          ?c foaf:parent ?b.\n",
    "          ?a foaf:name ?aname.\n",
    "          ?a foaf:gender \"Male\".\n",
    "          ?b foaf:name ?bname.\n",
    "          FILTER(?a != ?c)\n",
    "       }\"\"\",initNs = { \"foaf\": FOAF })\n",
    "\n",
    "Tante = ab.query(\n",
    "    \"\"\"SELECT DISTINCT ?aname ?bname\n",
    "       WHERE {\n",
    "          ?d foaf:parent ?a.\n",
    "          ?d foaf:parent ?c.\n",
    "          ?c foaf:parent ?b.\n",
    "          ?a foaf:name ?aname.\n",
    "          ?a foaf:gender \"Female\".\n",
    "          ?b foaf:name ?bname.\n",
    "          FILTER(?a != ?c)\n",
    "       }\"\"\",initNs = { \"foaf\": FOAF })\n",
    "\n",
    "Neef = ab.query(\n",
    "    \"\"\"SELECT DISTINCT ?aname ?bname\n",
    "       WHERE {\n",
    "          ?d foaf:parent ?e.\n",
    "          ?d foaf:parent ?c.\n",
    "          ?c foaf:parent ?b.\n",
    "          ?e foaf:parent ?a.\n",
    "          ?a foaf:name ?aname.\n",
    "          ?a foaf:gender \"Male\".\n",
    "          ?b foaf:name ?bname.\n",
    "          FILTER(?e != ?c)\n",
    "       }\"\"\",initNs = { \"foaf\": FOAF })\n",
    "\n",
    "Nicht = ab.query(\n",
    "    \"\"\"SELECT DISTINCT ?aname ?bname\n",
    "       WHERE {\n",
    "          ?d foaf:parent ?e.\n",
    "          ?d foaf:parent ?c.\n",
    "          ?c foaf:parent ?b.\n",
    "          ?e foaf:parent ?a.\n",
    "          ?a foaf:name ?aname.\n",
    "          ?a foaf:gender \"Female\".\n",
    "          ?b foaf:name ?bname.\n",
    "          FILTER(?e != ?c)\n",
    "       }\"\"\",initNs = { \"foaf\": FOAF })\n",
    " \n",
    "Neven= [i for i in Neef]\n",
    "for i in Neven[:5]:\n",
    "    print(\"%s is de neef van %s\" %i)\n",
    "\n",
    "Nichten= [i for i in Nicht]\n",
    "for i in Nichten[:5]:\n",
    "    print(\"%s is de nicht van %s\" %i)\n",
    "    \n",
    "Tantes= [i for i in Tante]\n",
    "for i in Tantes[:5]:\n",
    "    print(\"%s is de tante van %s\" %i)\n",
    "    \n",
    "Zoons= [i for i in Zoon]\n",
    "for i in Zoons[:5]:\n",
    "    print(\"%s is de zoon van %s\" %i)\n",
    "    \n",
    "Dochters= [i for i in Dochter]\n",
    "for i in Dochters[:5]:\n",
    "    print(\"%s is de dochter van %s\" %i)\n",
    "    \n",
    "Broers= [i for i in Broer]\n",
    "for i in Broers[:5]:\n",
    "    print(\"%s is de broer van %s\" %i)\n",
    "    \n",
    "Zussen= [i for i in Zus]\n",
    "for i in Zussen[:5]:\n",
    "    print(\"%s is de zus van %s\" %i)\n",
    "    \n",
    "Opas= [i for i in Opa]\n",
    "for i in Opas[:5]:\n",
    "    print(\"%s is de opa van %s\" %i)\n",
    "    \n",
    "Omas= [i for i in Oma]\n",
    "for i in Omas[:5]:\n",
    "    print(\"%s is de oma van %s\" %i)\n",
    "    \n",
    "Ooms= [i for i in Oom]\n",
    "for i in Ooms[:5]:\n",
    "    print(\"%s is de oom van %s\" %i)"
   ]
  },
  {
   "cell_type": "markdown",
   "metadata": {},
   "source": [
    "Voor de LHBTQI+ community wordt de RDF database doorzocht om te kijken wat iemands seksuele voorkeur is. Dit wordt gedaan door het geslacht van de persoon en de geslacht(en) van de person(en) waar diegene op valt te bekijken. We kijken hier dan naar persoon ?a en persoon ?b, en het bijbehorende geslacht, waarbij ?a de relatie*  'valt op ...' heeft met ?b. <br><br>\n",
    "*in de code heet deze relatie 'foaf:parent'.\n"
   ]
  },
  {
   "cell_type": "code",
   "execution_count": 18,
   "metadata": {},
   "outputs": [
    {
     "name": "stdout",
     "output_type": "stream",
     "text": [
      "Amy is lesbisch\n",
      "Lisa is lesbisch\n",
      "Clara is lesbisch\n",
      "Gijs is homo\n",
      "Tim is homo\n",
      "Clara is bi\n",
      "Tim is bi\n"
     ]
    }
   ],
   "source": [
    "lesbian = lhb.query(\n",
    "    \"\"\"SELECT DISTINCT ?aname ?bname\n",
    "        WHERE {\n",
    "        ?a foaf:parent ?b.\n",
    "        ?a foaf:gender \"Female\".\n",
    "        ?b foaf:gender \"Female\".\n",
    "        ?a foaf:name ?aname.\n",
    "        ?b foaf:name ?bname.\n",
    "        }\"\"\",initNs = { \"foaf\": FOAF })\n",
    "\n",
    "homos = lhb.query(\n",
    "    \"\"\"SELECT DISTINCT ?aname ?bname\n",
    "        WHERE {\n",
    "        ?a foaf:parent ?b.\n",
    "        ?a foaf:gender \"Male\".\n",
    "        ?b foaf:gender \"Male\".\n",
    "        ?a foaf:name ?aname.\n",
    "        ?b foaf:name ?bname.\n",
    "        }\"\"\",initNs = { \"foaf\": FOAF })\n",
    "\n",
    "Bi = lhb.query(\n",
    "    \"\"\"SELECT DISTINCT ?aname\n",
    "        WHERE {\n",
    "        ?a foaf:parent ?b.\n",
    "        ?a foaf:parent ?c.\n",
    "        ?b foaf:gender \"Female\".\n",
    "        ?c foaf:gender \"Male\".\n",
    "        ?a foaf:name ?aname.\n",
    "        }\"\"\",initNs = { \"foaf\": FOAF })\n",
    "\n",
    "for row in lesbian:\n",
    "    print(\"%s is lesbisch\" % row[0])\n",
    "    \n",
    "for row in homos:\n",
    "    print(\"%s is homo\" % row[0])\n",
    "\n",
    "for row in Bi:\n",
    "    print(\"%s is bi\" % row)"
   ]
  },
  {
   "cell_type": "markdown",
   "metadata": {},
   "source": [
    "# 4. Rollen omdraaien\n",
    "### Een rdflib database omzetten naar een Netwerk\n",
    "\n",
    "Dit kan vrij simpel met de functie: <code>rdflib_to_networkx_graph()</code>. \n",
    "We beginnen met een online bron voor een database, bijvoorbeeld de bron van de Amerikaanse rapper Biggie: 'https://dbpedia.org/resource/The_Notorious_B.I.G.'\n",
    "Deze zet je in een rdflib database met twee regels: <br><br>\n",
    "<code>big=Graph()</code> &#8594; (hier maak je een Graph)<br>\n",
    "<code>big.parse('https://dbpedia.org/resource/The_Notorious_B.I.G.')</code> &#8594; (de Graph wordt gevuld met data uit de bron)<br>\n",
    "\n",
    "vervolgens gebruik je de <code>rdflib_to_networkx_graph()</code> functie om de RDFLIB database om te zetten naar een netwerk. \n"
   ]
  },
  {
   "cell_type": "code",
   "execution_count": null,
   "metadata": {},
   "outputs": [
    {
     "name": "stdout",
     "output_type": "stream",
     "text": [
      "networkx Graph loaded successfully with length 2406\n"
     ]
    }
   ],
   "source": [
    "# Conversion of rdflib.Graph to networkx.Graph\n",
    "from rdflib.extras.external_graph_libs import rdflib_to_networkx_graph\n",
    "big=Graph()\n",
    "big.parse('https://dbpedia.org/resource/The_Notorious_B.I.G.')\n",
    "netwerk = rdflib_to_networkx_graph(big)\n",
    "print(\"networkx Graph loaded successfully with length {}\".format(len(big)))\n",
    "nx.draw(netwerk)\n",
    "print(\"gemiddelde kortste pad is :\", nx.average_shortest_path_length(netwerk))\n",
    "print(\"De degree centrality voor de hoofdpersoon in de graaf is:\", nx.degree_centrality((netwerk))[rdflib.term.URIRef('http://dbpedia.org/resource/The_Notorious_B.I.G.')])\n",
    "avg_deg = 2*netwerk.number_of_edges() / netwerk.number_of_nodes()\n",
    "print(\"De 'average degree' van dit netwerk is %s\" %avg_deg)\n",
    "print(\"De density van dit netwerk is %s\" %nx.density(netwerk))"
   ]
  },
  {
   "cell_type": "code",
   "execution_count": null,
   "metadata": {},
   "outputs": [],
   "source": []
  }
 ],
 "metadata": {
  "kernelspec": {
   "display_name": "Python 3",
   "language": "python",
   "name": "python3"
  },
  "language_info": {
   "codemirror_mode": {
    "name": "ipython",
    "version": 3
   },
   "file_extension": ".py",
   "mimetype": "text/x-python",
   "name": "python",
   "nbconvert_exporter": "python",
   "pygments_lexer": "ipython3",
   "version": "3.7.4"
  },
  "toc": {
   "nav_menu": {},
   "number_sections": true,
   "sideBar": true,
   "skip_h1_title": false,
   "title_cell": "Table of Contents",
   "title_sidebar": "Contents",
   "toc_cell": true,
   "toc_position": {},
   "toc_section_display": true,
   "toc_window_display": false
  }
 },
 "nbformat": 4,
 "nbformat_minor": 2
}
