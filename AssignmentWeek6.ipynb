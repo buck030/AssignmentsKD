{
 "cells": [
  {
   "cell_type": "markdown",
   "metadata": {},
   "source": [
    "# Assignment Kennis en Data"
   ]
  },
  {
   "cell_type": "markdown",
   "metadata": {},
   "source": [
    "## Notebook made by\n",
    "\n",
    "\n",
    "|Naam|Studentnummer|\n",
    "|-|-|\n",
    "| Noor de Baat | 12389714 |\n",
    "| Laurens van Wijk | 12611972 |\n",
    "| Dennis de Buck | 12903000 |\n",
    "| Maik Larooij | 12761915 |\n",
    "\n",
    "## Peerreview\n",
    "\n",
    "* Vul onderstaande dict/tabel in en run de cel. Klopt het? Zijn jullie het er allemaal mee eens?\n",
    "    * Verander `1,2,3,4` door jullie studentnummers\n",
    "    * `1: {1:.2,2:.3,3:.3,4:.2}` betekent dat student 1 zijn punt zo over de 4 studenten verdeelt\n",
    "    * Let op, per student moeten de punten optellen tot 1!\n",
    "    * De gegeven punten staan in de tabel op de rijen, de ontvangen punten in de kolommen.\n",
    "    * met `cijfer_per_student` kan je bepalen welk cijfer ieder krijgt bij een gegeven groepscijfer."
   ]
  },
  {
   "cell_type": "code",
   "execution_count": 22,
   "metadata": {},
   "outputs": [
    {
     "name": "stdout",
     "output_type": "stream",
     "text": [
      "Cijfer per student:\n",
      " 12389714    7.4\n",
      "12611972    7.4\n",
      "12903000    8.6\n",
      "12761915    8.6\n",
      "dtype: float64 8\n"
     ]
    },
    {
     "data": {
      "text/html": [
       "<div>\n",
       "<style scoped>\n",
       "    .dataframe tbody tr th:only-of-type {\n",
       "        vertical-align: middle;\n",
       "    }\n",
       "\n",
       "    .dataframe tbody tr th {\n",
       "        vertical-align: top;\n",
       "    }\n",
       "\n",
       "    .dataframe thead th {\n",
       "        text-align: right;\n",
       "    }\n",
       "</style>\n",
       "<table border=\"1\" class=\"dataframe\">\n",
       "  <thead>\n",
       "    <tr style=\"text-align: right;\">\n",
       "      <th></th>\n",
       "      <th>12389714</th>\n",
       "      <th>12611972</th>\n",
       "      <th>12903000</th>\n",
       "      <th>12761915</th>\n",
       "    </tr>\n",
       "  </thead>\n",
       "  <tbody>\n",
       "    <tr>\n",
       "      <th>12389714</th>\n",
       "      <td>0.23</td>\n",
       "      <td>0.23</td>\n",
       "      <td>0.27</td>\n",
       "      <td>0.27</td>\n",
       "    </tr>\n",
       "    <tr>\n",
       "      <th>12611972</th>\n",
       "      <td>0.23</td>\n",
       "      <td>0.23</td>\n",
       "      <td>0.27</td>\n",
       "      <td>0.27</td>\n",
       "    </tr>\n",
       "    <tr>\n",
       "      <th>12903000</th>\n",
       "      <td>0.23</td>\n",
       "      <td>0.23</td>\n",
       "      <td>0.27</td>\n",
       "      <td>0.27</td>\n",
       "    </tr>\n",
       "    <tr>\n",
       "      <th>12761915</th>\n",
       "      <td>0.23</td>\n",
       "      <td>0.23</td>\n",
       "      <td>0.27</td>\n",
       "      <td>0.27</td>\n",
       "    </tr>\n",
       "  </tbody>\n",
       "</table>\n",
       "</div>"
      ],
      "text/plain": [
       "          12389714  12611972  12903000  12761915\n",
       "12389714      0.23      0.23      0.27      0.27\n",
       "12611972      0.23      0.23      0.27      0.27\n",
       "12903000      0.23      0.23      0.27      0.27\n",
       "12761915      0.23      0.23      0.27      0.27"
      ]
     },
     "execution_count": 22,
     "metadata": {},
     "output_type": "execute_result"
    },
    {
     "data": {
      "image/png": "[encoded data removed]",
      "text/plain": [
       "<Figure size 432x288 with 1 Axes>"
      ]
     },
     "metadata": {
      "needs_background": "light"
     },
     "output_type": "display_data"
    }
   ],
   "source": [
    "import pandas as pd\n",
    "%matplotlib inline\n",
    "\n",
    "def cijfer_per_student(weging,cijfer=8):\n",
    "    return round(weging*cijfer,1)\n",
    "\n",
    "weging= {\n",
    "        12389714: {12389714:.23,12611972:.23,12903000:.27,12761915:.27},\n",
    "        12611972: {12389714:.23,12611972:.23,12903000:.27,12761915:.27},\n",
    "        12903000: {12389714:.23,12611972:.23,12903000:.27,12761915:.27},\n",
    "        12761915: {12389714:.23,12611972:.23,12903000:.27,12761915:.27}\n",
    "        }\n",
    "# verander hier niks aan\n",
    "df= pd.DataFrame(weging).T\n",
    "assert all((df.sum(1)==1).values) # per student moeten de gewichten optellen tot 1\n",
    "df.sum().plot(kind='barh', title='Weging per student');\n",
    "print(\"Cijfer per student:\\n\",cijfer_per_student(df.sum()),8)\n",
    "df"
   ]
  },
  {
   "cell_type": "markdown",
   "metadata": {},
   "source": [
    "## Toelichting\n",
    "\n",
    "* De meeste opgaven worden automatisch nagekeken. Bij vrijwel alle opdrachten staan er een paar tests onder de opdracht, dit is voornamelijk om te zorgen dat je de juiste type output geeft. Dit zijn dus *NIET* alle tests, die komen er bij het graden nog bij.\n",
    "* Elke vraag is 1 punt waard, tenzij anders aangegeven. Soms is die punt onderverdeeld in deelpunten, maar niet altijd. \n",
    "\n",
    "## Voor het inleveren!\n",
    "\n",
    "* Pas niet de cellen aan, vooral niet die je niet kunt editen. Dit levert problemen op bij nakijken. Twijfel je of je per ongeluk iets hebt gewijzigd, kopieer dan bij inleveren je antwoorden naar een nieuw bestand, zodat het niet fout kan gaan.\n",
    "\n",
    "* Zorg dat de code goed runt van boven naar beneden, verifieer dat door boven in Kernel -> Restart & Run All uit te voeren\n",
    "\n",
    "## Na het inleveren!\n",
    "\n",
    "* Het gebeurt erg vaak dat mensen een \"leeg bestand\" inleveren. Vaak een andere versie van de opgave die nog ergens op je computer rondslingerde. Zonde van al je werk toch!\n",
    "* Dus, lever **minstens een half uur voor tijd in**. Download dan wat je hebt ingeleverd op Canvas. Geef het een andere naam om verwarring te voorkomen. En draai alle cellen, en bekijk het. Geen syntax fouten? Alle vragen gemaakt? Dan zit het vast wel goed, en hoef je niet in de zenuwen te zitten."
   ]
  },
  {
   "cell_type": "markdown",
   "metadata": {
    "toc": true
   },
   "source": [
    "<h1>Table of Contents<span class=\"tocSkip\"></span></h1>\n",
    "<div class=\"toc\"><ul class=\"toc-item\"><li><span><a href=\"#RDF-en-RDFS-completion\" data-toc-modified-id=\"RDF-en-RDFS-completion-1\"><span class=\"toc-item-num\">1&nbsp;&nbsp;</span>RDF en RDFS completion</a></span><ul class=\"toc-item\"><li><span><a href=\"#Jouw-taak\" data-toc-modified-id=\"Jouw-taak-1.1\"><span class=\"toc-item-num\">1.1&nbsp;&nbsp;</span>Jouw taak</a></span><ul class=\"toc-item\"><li><span><a href=\"#Je-cijfer-is-gebaseerd-op\" data-toc-modified-id=\"Je-cijfer-is-gebaseerd-op-1.1.1\"><span class=\"toc-item-num\">1.1.1&nbsp;&nbsp;</span>Je cijfer is gebaseerd op</a></span></li><li><span><a href=\"#Voorwaarden\" data-toc-modified-id=\"Voorwaarden-1.1.2\"><span class=\"toc-item-num\">1.1.2&nbsp;&nbsp;</span>Voorwaarden</a></span><ul class=\"toc-item\"><li><span><a href=\"#Database-en-regels\" data-toc-modified-id=\"Database-en-regels-1.1.2.1\"><span class=\"toc-item-num\">1.1.2.1&nbsp;&nbsp;</span>Database en regels</a></span></li><li><span><a href=\"#Test-voorbeelden\" data-toc-modified-id=\"Test-voorbeelden-1.1.2.2\"><span class=\"toc-item-num\">1.1.2.2&nbsp;&nbsp;</span>Test voorbeelden</a></span></li><li><span><a href=\"#Check-ajb\" data-toc-modified-id=\"Check-ajb-1.1.2.3\"><span class=\"toc-item-num\">1.1.2.3&nbsp;&nbsp;</span>Check ajb</a></span></li></ul></li></ul></li></ul></li><li><span><a href=\"#Jouw-completion-functie\" data-toc-modified-id=\"Jouw-completion-functie-2\"><span class=\"toc-item-num\">2&nbsp;&nbsp;</span>Jouw completion functie</a></span></li><li><span><a href=\"#Jouw-lijst-met-testen\" data-toc-modified-id=\"Jouw-lijst-met-testen-3\"><span class=\"toc-item-num\">3&nbsp;&nbsp;</span>Jouw lijst met testen</a></span></li><li><span><a href=\"#Voor-de-echte-diehards-die-gaan-voor-een-10\" data-toc-modified-id=\"Voor-de-echte-diehards-die-gaan-voor-een-10-4\"><span class=\"toc-item-num\">4&nbsp;&nbsp;</span>Voor de echte diehards die gaan voor een 10</a></span><ul class=\"toc-item\"><li><ul class=\"toc-item\"><li><span><a href=\"#Hoeveel-RDFS-statements-zijn-er-eigenlijk-die-zouden-kunnen-volgen?\" data-toc-modified-id=\"Hoeveel-RDFS-statements-zijn-er-eigenlijk-die-zouden-kunnen-volgen?-4.0.1\"><span class=\"toc-item-num\">4.0.1&nbsp;&nbsp;</span>Hoeveel RDFS statements zijn er eigenlijk die zouden kunnen volgen?</a></span></li></ul></li></ul></li></ul></div>"
   ]
  },
  {
   "cell_type": "markdown",
   "metadata": {},
   "source": [
    "# RDF en RDFS completion\n",
    "\n",
    "* We maken een programma dat gegeven een RDF triple store plus een set RDFS statements, alle mogelijke niet triviale logische consequenties hiervan afleidt, en die in een RDF en RDFS database zet.\n",
    "* Dit wordt ook wel *materialization* genoemd. Het idee is dat uit beide kennisbanken **exact dezelfde feiten volgen**, maar dat dat sneller kan vanuit de pure RDF versie (omdat je dan geen feiten hoeft af te leiden).\n",
    "* De technische term voor het algorithme dat deze \"completering\" doet is de *chase*.\n",
    "* Het [artikel van Enrico Franconi et al](https://link.springer.com/chapter/10.1007/978-3-642-41335-3_7) bevat een systeem.\n",
    "* Net als in Franconi werken we alleen met de 4 interresantste RDFS statements:\n",
    "    * **Hierarchie** \n",
    "        * $\\forall xy (Rxy \\rightarrow Sxy)$  (\" to love him is to know him\", als je van iemand houdt dan ken je diegene) \n",
    "        * $\\forall x (Horse(x) \\rightarrow Animal(x))$\n",
    "    * **Domain en range restrictions**\n",
    "        * $\\forall xy (Rxy \\rightarrow Dx)$ (domain) \"Als x een staart heeft is het een dier\"\n",
    "        * $\\forall xy (Rxy \\rightarrow Dy)$ (range)  \"Als je een  ouder bent van y, is y een mens.\"\n",
    "        \n",
    "## Jouw taak\n",
    "\n",
    "1. Maak de functie `complete(facts, rules)` die voldoet aan de volgende eigenschap:\n",
    "    * voor elke feit `(o,p,s)`, facts+rules $\\models$ (o,p,s) $\\Leftrightarrow$ `complete(facts, rules)` $\\models$ (o,p,s) \n",
    "        * Jouw functie is zowel volledig als geldig (*sound and complete*), dat is exact wat je wilt.\n",
    "    * `complete(facts, rules)` is een verzameling feiten.\n",
    "2. Maak een flinke collectie van tests waarmee je test dat jouw functie aan die eisen voldoet. \n",
    "    * Dus dat het niet te veel en niet te weinig, maar exact de juiste feiten impliceert.\n",
    "    * Je deelt die tests met alle anderen, en ook jouw functie, en we gaan dus elke functie tegen elke test draaien, en dus een matrix met scores maken.\n",
    "    \n",
    "### Je cijfer is gebaseerd op \n",
    "\n",
    "1. Hoe goed doorstaat jouw functie alle tests.\n",
    "2. Hoe goed zijn jouw tests.\n",
    "    * Strenge (doch rechtvaardige) tests zijn natuurlijk het best. Tests waar iedereen voor slaagt lijken leuk maar zijn meestal niet veel waard. \n",
    "    \n",
    "    \n",
    "### Voorwaarden\n",
    "\n",
    "#### Database en regels\n",
    "\n",
    "We werken niet direct met RDF en RDFS omdat dat zo'n enorme syntax overhead heeft. We doen de dingen gewoon lekker in Python.\n",
    "\n",
    "* Je RDF store is een verzameling triples, waarbij de 3 elementen strings of integers of floats zijn.\n",
    "    * Je schrijft eigenschappen van individuen als `('henk', 'isa', 'Man')`\n",
    "        * dus altijd met de vaste relatie `isa` in het midden.\n",
    "    * en relaties tussen individuen als `('henk', Houdt_van', 'ingrid')`\n",
    "    * en idem voor relaties tussen individuen en getallen `('henk', 'leeftijd', 53)`\n",
    "    * Begin namen van individuen (\"knopen\") meteen kleine letter, en eigenschappen en relaties met een grote.\n",
    "* Je RDFS store is een dict met sleutels `['subPropertyOf', 'subClassOf', 'domain', 'range']` en voor elke sleutel een verzameling met 2-tuples (paartjes in gewoon Nederlands) als waarde. \n",
    "\n",
    "#### Test voorbeelden\n",
    "\n",
    "Een testset is een lijst triples van de vorm `(D:RDF_store, R:RDFS_store, Pos:RDF_store, Neg:RDF_store)` waarvoor geldt dat \n",
    "* voor elk triple t in Pos: $D,R\\models t$\n",
    "* voor elk triple t in Neg: $D,R\\not\\models t$\n",
    "* Met $\\models$ wordt dus bedoeld volgens de Franconi semantiek, en dus ook volgens de RDF semantiek. Dat betekent dus niet per se dat dit hetzelfde is als volgens jouw completion functie (want die zou fouten kunnen maken).\n",
    "* Hieronder staat een flauw voorbeeld. Jounes is veel gaver en strenger en leuker  natuurlijk!\n",
    "\n",
    "#### Check ajb\n",
    "\n",
    "* Als de tests hieronder niet slagen kunnen we niks met je code, en kan je  dus niet meedoen. Zonde van al je werk toch?"
   ]
  },
  {
   "cell_type": "code",
   "execution_count": 2,
   "metadata": {
    "deletable": false,
    "editable": false,
    "nbgrader": {
     "cell_type": "code",
     "checksum": "2fa770e88b5b07eba6aab91f623677b0",
     "grade": false,
     "grade_id": "rfds",
     "locked": true,
     "schema_version": 3,
     "solution": false
    }
   },
   "outputs": [
    {
     "data": {
      "text/plain": [
       "{'subPropertyOf': {('Eet', 'Vindt_lekker'), ('Houdt_van', 'Kent')},\n",
       " 'subClassOf': {('Mens', 'Dier'), ('Student', 'Mens')},\n",
       " 'domain': {('Houdt_van', 'Mens')},\n",
       " 'range': ('Vindt_lekker', 'Eten')}"
      ]
     },
     "execution_count": 2,
     "metadata": {},
     "output_type": "execute_result"
    }
   ],
   "source": [
    "# voorbeeld\n",
    "RDFS= {'subPropertyOf': {('Houdt_van','Kent'), ('Eet','Vindt_lekker')},\n",
    "      'subClassOf': {('Mens','Dier'),('Student','Mens')},\n",
    "      'domain': {('Houdt_van','Mens')},\n",
    "      'range': ('Vindt_lekker','Eten')}\n",
    "RDFS"
   ]
  },
  {
   "cell_type": "code",
   "execution_count": 3,
   "metadata": {
    "deletable": false,
    "editable": false,
    "nbgrader": {
     "cell_type": "code",
     "checksum": "21954308ba447742faade218f1e5fb5b",
     "grade": false,
     "grade_id": "test",
     "locked": true,
     "schema_version": 3,
     "solution": false
    }
   },
   "outputs": [
    {
     "data": {
      "text/plain": [
       "[({('Henk', 'isa', 'Mens')},\n",
       "  {'subPropertyOf': set(),\n",
       "   'subClassOf': {('Mens', 'Sterfelijk')},\n",
       "   'domain': set(),\n",
       "   'range': set()},\n",
       "  {('Henk', 'isa', 'Sterfelijk')},\n",
       "  {('henk', 'Houdt_van', 'ingrid')})]"
      ]
     },
     "execution_count": 3,
     "metadata": {},
     "output_type": "execute_result"
    }
   ],
   "source": [
    "# voorbeeld\n",
    "\n",
    "test1= [\n",
    "    ({('Henk','isa','Mens')},  # RDF store\n",
    "       {'subPropertyOf': set(),  # RDFS store\n",
    "      'subClassOf': {('Mens','Sterfelijk')},\n",
    "      'domain': set(),\n",
    "      'range':  set()},\n",
    "       {('Henk','isa','Sterfelijk')}, # positieve voorbeelden\n",
    "       {('henk', 'Houdt_van', 'ingrid')} # negatieve voorbeelden\n",
    "       )\n",
    "       ]\n",
    "test1"
   ]
  },
  {
   "cell_type": "markdown",
   "metadata": {},
   "source": [
    "# Jouw completion functie"
   ]
  },
  {
   "cell_type": "code",
   "execution_count": 4,
   "metadata": {
    "deletable": false,
    "nbgrader": {
     "cell_type": "code",
     "checksum": "e5a511d86305f5c585c5f0450a976d96",
     "grade": false,
     "grade_id": "f",
     "locked": false,
     "schema_version": 3,
     "solution": true
    }
   },
   "outputs": [
    {
     "name": "stdout",
     "output_type": "stream",
     "text": [
      "complete_12761915\n",
      "{('Henk', 'isa', 'Mens')}\n",
      "{'subPropertyOf': set(), 'subClassOf': {('Mens', 'Sterfelijk')}, 'domain': set(), 'range': set()}\n"
     ]
    },
    {
     "data": {
      "text/plain": [
       "{('Henk', 'isa', 'Mens'), ('Henk', 'isa', 'Sterfelijk')}"
      ]
     },
     "execution_count": 4,
     "metadata": {},
     "output_type": "execute_result"
    }
   ],
   "source": [
    "studnr=12761915 # verander door het student id van jullie groepsleider\n",
    "functienaam= 'complete_'+str(studnr)\n",
    "print(functienaam)\n",
    "\n",
    "def functienaam(facts, rules):\n",
    "    aanpassingen = 1\n",
    "    completion = facts\n",
    "    while aanpassingen:\n",
    "        aanpassingen = 0\n",
    "        completion_copy = completion.copy()\n",
    "        for triple in completion_copy:\n",
    "            \n",
    "            for rule in rules['subPropertyOf']:\n",
    "                if rule[0] == triple[1]:\n",
    "                    if (triple[0], rule[1], triple[2]) not in completion:\n",
    "                        completion.add((triple[0], rule[1], triple[2]))\n",
    "                        aanpassingen += 1\n",
    "            \n",
    "            for rule in rules['subClassOf']:\n",
    "                if rule[0] == triple[2]:\n",
    "                    if (triple[0], triple[1], rule[1]) not in completion:\n",
    "                        completion.add((triple[0], triple[1], rule[1]))\n",
    "                        aanpassingen += 1\n",
    "                    \n",
    "            for rule in rules['domain']:\n",
    "                if rule[0] == triple[1]:\n",
    "                    if (triple[0], 'isa', rule[1]) not in completion:\n",
    "                        completion.add((triple[0], 'isa', rule[1]))\n",
    "                        aanpassingen += 1\n",
    "            \n",
    "            for rule in rules['range']:\n",
    "                if rule[0] == triple[1]:\n",
    "                    if (triple[2], 'isa', rule[1]) not in completion:\n",
    "                        completion.add((triple[2], 'isa', rule[1]))\n",
    "                        aanpassingen += 1\n",
    "    return completion\n",
    "\n",
    "\n",
    "#test\n",
    "facts= test1[0][0]\n",
    "rules= test1[0][1]\n",
    "print(facts)\n",
    "print(rules)\n",
    "functienaam(facts,rules)"
   ]
  },
  {
   "cell_type": "code",
   "execution_count": 5,
   "metadata": {
    "deletable": false,
    "editable": false,
    "nbgrader": {
     "cell_type": "code",
     "checksum": "31bb7fb371f82329a691664a7fa3b08e",
     "grade": true,
     "grade_id": "s",
     "locked": true,
     "points": 0,
     "schema_version": 3,
     "solution": false
    }
   },
   "outputs": [],
   "source": [
    "assert studnr!= 1234567, 'Dit is niet jouw student nummer!'\n"
   ]
  },
  {
   "cell_type": "code",
   "execution_count": 6,
   "metadata": {
    "deletable": false,
    "editable": false,
    "nbgrader": {
     "cell_type": "code",
     "checksum": "b68d9775579a434d5891083c55365172",
     "grade": true,
     "grade_id": "ft",
     "locked": true,
     "points": 0,
     "schema_version": 3,
     "solution": false
    }
   },
   "outputs": [],
   "source": [
    "RDFS= {'subPropertyOf': {('Houdt_van','Kent'), ('Eet','Vindt_lekker')},\n",
    "      'subClassOf': {('Mens','Dier'),('Student','Mens')},\n",
    "      'domain': {('Houdt_van','Mens')},\n",
    "      'range': {('Vindt_lekker','Eten')}\n",
    "      }\n",
    "RDF= {('Henk','isa','Mens')}\n",
    "completion= functienaam(RDF,RDFS)\n",
    "assert isinstance(completion,set)\n",
    "for t in completion:\n",
    "    assert isinstance(t,tuple)\n",
    "    assert len(t)==3\n",
    "    assert isinstance(t[0], str)\n",
    "    assert isinstance(t[1], str)\n",
    "    assert isinstance(t[2], (str, int,float))\n",
    "    "
   ]
  },
  {
   "cell_type": "markdown",
   "metadata": {},
   "source": [
    "# Jouw lijst met testen"
   ]
  },
  {
   "cell_type": "code",
   "execution_count": 7,
   "metadata": {
    "deletable": false,
    "nbgrader": {
     "cell_type": "code",
     "checksum": "793a3e6331c6791cdd2420fd4518352e",
     "grade": false,
     "grade_id": "t",
     "locked": false,
     "schema_version": 3,
     "solution": true
    }
   },
   "outputs": [],
   "source": [
    "testnaam= 'test_'+str(studnr)\n",
    "\n",
    "\n",
    "testnaam = [\n",
    "            # Test of de volgorde van regels niet uit maakt\n",
    "            ({('UvA', 'Locatie', 'Science_Park')},\n",
    "             {'subPropertyOf': {},\n",
    "              'subClassOf': {('Europa', 'Wereld'),('Nederland', 'Europa'),('Amsterdam','Nederland'),('Science_Park', 'Amsterdam')},\n",
    "              'domain': {},\n",
    "              'range': {}},\n",
    "            {('UvA', 'Locatie', 'Europa'),\n",
    "             ('UvA', 'Locatie', 'Nederland'),\n",
    "             ('UvA', 'Locatie', 'Wereld'),\n",
    "             ('UvA', 'Locatie', 'Amsterdam'),\n",
    "             ('UvA', 'Locatie', 'Science_Park')},\n",
    "            set()),\n",
    "            \n",
    "            # Test of domain en range goed zijn geïmplementeerd en niet verkeerd om. Test of volgorde van statements uit maakt\n",
    "            ({('marx', 'Geeft_les', 'dennis')},\n",
    "            {'subPropertyOf': {},\n",
    "             'subClassOf': {('Docent','Mens'),('Student','Mens')},\n",
    "             'domain': {('Geeft_les','Docent')},\n",
    "             'range': {('Geeft_les','Student')}},\n",
    "            {('marx', 'isa', 'Mens'),\n",
    "             ('dennis', 'isa', 'Mens')},\n",
    "            {('marx', 'isa', 'Student'),\n",
    "             ('dennis', 'isa', 'Docent')}),\n",
    "    \n",
    "            # Test of input wel in output zit, en dus niet alleen de nieuw toegevoegde triples worden gereturned\n",
    "            ({('maik', 'isa', 'Student'),('maik', 'Woont_in', 'Amersfoort')},\n",
    "            {'subPropertyOf': {},\n",
    "             'subClassOf': {('Student','Mens')},\n",
    "             'domain': {('Woont_in','Mens')},\n",
    "             'range': {('Geeft_les','Student')}},\n",
    "            {('maik', 'isa', 'Student'),\n",
    "             ('maik', 'Woont_in', 'Amersfoort')},\n",
    "            set()),\n",
    "            \n",
    "            # Test of subclass en subproperty op de juiste manier zijn geïmplementeerd (dus niet andersom)\n",
    "            ({('Konijn', 'isa', 'Dier'),('noor', 'isa', 'Mens'),('noor', 'Heeft_huisdier', 'Konijn'),('laurens', 'Leeft_in_huis_met', 'Hond')},\n",
    "             {'subPropertyOf': {('Heeft_huisdier', 'Leeft_in_huis_met')},\n",
    "              'subClassOf': {('Mens','Dier')},\n",
    "              'domain': {},\n",
    "              'range': {}},\n",
    "             {('noor', 'isa', 'Dier'),('noor', 'Leeft_in_huis_met', 'Konijn')},\n",
    "             {('Konijn', 'isa', 'Mens'),('laurens', 'Heeft_huisdier', 'Hond')}\n",
    "             ),\n",
    "            \n",
    "            # Test die eerst alleen te maken heeft met range, maar naar mate er dingen worden toegevoegd alle componenten test\n",
    "            ({('maik', 'Komt_uit', 'Amersfoort')},\n",
    "             {'subPropertyOf': {('Komt_uit', 'Geweest_in'),('Geweest_in', 'Gehoord_van')},\n",
    "              'subClassOf': {('Stad','Nederzetting')},\n",
    "              'domain': {('Geweest_in', 'Mens')},\n",
    "              'range': {('Komt_uit', 'Stad')}\n",
    "              },\n",
    "             {('maik', 'isa', 'Mens'), ('maik', 'Gehoord_van', 'Amersfoort'), ('maik', 'Geweest_in', 'Amersfoort'), ('Amersfoort', 'isa', 'Nederzetting'), ('maik', 'Komt_uit', 'Amersfoort'), ('Amersfoort', 'isa', 'Stad')},\n",
    "             {('maik', 'isa', 'Stad'),('Amersfoort', 'isa', 'Mens')})\n",
    "        ]\n"
   ]
  },
  {
   "cell_type": "code",
   "execution_count": 8,
   "metadata": {
    "deletable": false,
    "editable": false,
    "nbgrader": {
     "cell_type": "code",
     "checksum": "eec1a8944bb8d0211b210689879b82fd",
     "grade": true,
     "grade_id": "tt",
     "locked": true,
     "points": 0,
     "schema_version": 3,
     "solution": false
    }
   },
   "outputs": [],
   "source": [
    "assert isinstance(testnaam,list)\n",
    "for test in testnaam:\n",
    "    assert isinstance(test,tuple)\n",
    "    assert len(test)==4\n",
    "    assert isinstance(test[0],set)\n",
    "    assert isinstance(test[1],dict)\n",
    "    assert isinstance(test[2],set)\n",
    "    assert isinstance(test[3],set)"
   ]
  },
  {
   "cell_type": "markdown",
   "metadata": {},
   "source": [
    "# Voor de echte diehards die gaan voor een 10\n",
    "\n",
    "Franconi beschrijft in zijn artikel dat je ook RDFS statements uit andere RDFS statements kunt afleiden. Hij geeft een leuk voorbeeld in het eerste plaatje.\n",
    "\n",
    "Dat kan jij natuurlijk ook!\n",
    "\n",
    "Maak een functie `complete(RDFS)` die precies alle RDFS statements afleidt die volgen uit de verzameling `RDFS`.\n",
    "\n",
    "Maak er ook weer een mooie testset bij, en beargumenteer dat jouw systeem geldig en volledig is.\n",
    "\n",
    "### Hoeveel RDFS statements zijn er eigenlijk die zouden kunnen volgen?\n",
    "\n",
    "* Gegeven de relaties en eigenschappen in de verzameling `RDFS` is dit eindig.\n",
    "* En er zijn maar 4 soorten RDFS statements. \n",
    "* Dus moet het wel eindig zijn, en kan je zelfs uitrekenen hoeveel.\n",
    "* Een manier is om ze allemaal te proberen....\n",
    "    * Voeg het antecedent toe als RDF-triple aan `RDFS` en kijk of het consequent dan volgt...\n",
    "* Reken het eens uit voor $r$ relaties en $p$ eigenschappen.\n",
    "    * Met $r$ relaties kan je $r\\cdot(r-1)$ veel `subPropertyOf` relaties maken toch...\n",
    "    * en dan nog ....\n",
    "    * en ....\n",
    "* Dit is niet eens zo gek, maar met een *chase* gaat het natuurlijk veel sneller omdat je dan resultaatgericht werkt in plaats van als een dolle alles gaat proberen.\n",
    "    * Bijv; Stel je hebt 100 relaties, maar in je RDFS komt er maar 1 voor in antecdent positie in `subPropertyOf` statements. Hoeveel `subPropertyOf` kan je dan afleiden? Ja, dat is dus sneller dan al die 100*99 te gaan proberen toch? Want dat is best veel."
   ]
  },
  {
   "cell_type": "code",
   "execution_count": 9,
   "metadata": {},
   "outputs": [],
   "source": [
    "import copy\n",
    "\n",
    "def complete(rules):\n",
    "    aanpassingen = 1\n",
    "    output = rules\n",
    "    while aanpassingen:\n",
    "        aanpassingen = 0\n",
    "        output_copy = copy.deepcopy(output)\n",
    "        \n",
    "        for ab in output_copy['subPropertyOf']:\n",
    "            for bc in output_copy['subPropertyOf']:\n",
    "                if ab[1] == bc[0]:\n",
    "                    if (ab[0], bc[1]) not in output['subPropertyOf']:\n",
    "                        output['subPropertyOf'].add((ab[0], bc[1]))\n",
    "                        aanpassingen += 1\n",
    "                        \n",
    "        for ab in output_copy['subClassOf']:\n",
    "            for bc in output_copy['subClassOf']:\n",
    "                if ab[1] == bc[0]:\n",
    "                    if (ab[0], bc[1]) not in output['subClassOf']:\n",
    "                        output['subClassOf'].add((ab[0], bc[1]))\n",
    "                        aanpassingen += 1\n",
    "                        \n",
    "        for ab in output_copy['subPropertyOf']:\n",
    "            for bc in output_copy['domain']:\n",
    "                if ab[1] == bc[0]:\n",
    "                    if (ab[0], bc[1]) not in output['domain']:\n",
    "                        output['domain'].add((ab[0], bc[1]))\n",
    "                        aanpassingen += 1\n",
    "                        \n",
    "        for ab in output_copy['domain']:\n",
    "            for bc in output_copy['subClassOf']:\n",
    "                if ab[1] == bc[0]:\n",
    "                    if (ab[0], bc[1]) not in output['domain']:\n",
    "                        output['domain'].add((ab[0], bc[1]))\n",
    "                        aanpassingen += 1 \n",
    "                        \n",
    "        for ab in output_copy['subPropertyOf']:\n",
    "            for bc in output_copy['range']:\n",
    "                if ab[1] == bc[0]:\n",
    "                    if (ab[0], bc[1]) not in output['range']:\n",
    "                        output['range'].add((ab[0], bc[1]))\n",
    "                        aanpassingen += 1\n",
    "                        \n",
    "        for ab in output_copy['range']:\n",
    "            for bc in output_copy['subClassOf']:\n",
    "                if ab[1] == bc[0]:\n",
    "                    if (ab[0], bc[1]) not in output['range']:\n",
    "                        output['range'].add((ab[0], bc[1]))\n",
    "                        aanpassingen += 1 \n",
    "    \n",
    "    return output"
   ]
  },
  {
   "cell_type": "markdown",
   "metadata": {},
   "source": [
    "## Benieuwd hoe dit werkt?\n",
    "\n",
    "Hieronder staan een aantal tests met elke keer de uitleg waarom de nieuwe RDFS statement is toegevoegd. De functie is gebaseerd op de volgende statements uit de paper van Franconi:\n",
    "\n",
    "![Franconi RDFS Statements](https://i.ibb.co/Ydprrsk/Knipsel.pngg)\n",
    "\n",
    "Lees bijvoorbeeld het bovenste voorbeeld in het Nederlands:\n",
    "Als A een subclass is van B, en B is een subclass van C, dan is A ook een subclass van C.\n",
    "**Frisdrank** is een subclass van **drank**, **drank** is een subclass van **vloeistoffen**, dan is **frisdrank** ook een subclass van **vloeistoffen**."
   ]
  },
  {
   "cell_type": "code",
   "execution_count": 10,
   "metadata": {},
   "outputs": [
    {
     "name": "stdout",
     "output_type": "stream",
     "text": [
      "Joepie! Is toegevoegd! :)\n",
      "{'subPropertyOf': {('Eet', 'Vindt_lekker')}, 'subClassOf': {}, 'domain': {}, 'range': {('Vindt_lekker', 'Voedsel'), ('Eet', 'Voedsel')}}\n"
     ]
    }
   ],
   "source": [
    "test_range1 = {'subPropertyOf': {('Eet','Vindt_lekker')},\n",
    "             'subClassOf': {},\n",
    "             'domain': {},\n",
    "             'range': {('Vindt_lekker', 'Voedsel')}}\n",
    "\n",
    "# Moet toevoegen aan range: ('Eet','Voedsel'), want (A, sp, B) & (B, range, C) dan (A, range, C)\n",
    "\n",
    "if ('Eet', 'Voedsel') in complete(test_range1)['range']:\n",
    "    print('Joepie! Is toegevoegd! :)')\n",
    "    \n",
    "print(complete(test_range1))"
   ]
  },
  {
   "cell_type": "code",
   "execution_count": 11,
   "metadata": {},
   "outputs": [
    {
     "name": "stdout",
     "output_type": "stream",
     "text": [
      "Joepie! Is toegevoegd! :)\n",
      "{'subPropertyOf': {}, 'subClassOf': {('Mens', 'Wezen')}, 'domain': {}, 'range': {('Kent', 'Mens'), ('Kent', 'Wezen')}}\n"
     ]
    }
   ],
   "source": [
    "test_range2 = {'subPropertyOf': {},\n",
    "             'subClassOf': {('Mens','Wezen')},\n",
    "             'domain': {},\n",
    "             'range': {('Kent', 'Mens')}}\n",
    "\n",
    "# Moet toevoegen aan range: ('Kent', 'Wezen'), want (A, range, B) & (B, sc, C) dan (A, range, C)\n",
    "\n",
    "if ('Kent', 'Wezen') in complete(test_range2)['range']:\n",
    "    print('Joepie! Is toegevoegd! :)')\n",
    "    \n",
    "print(complete(test_range2))"
   ]
  },
  {
   "cell_type": "code",
   "execution_count": 12,
   "metadata": {},
   "outputs": [
    {
     "name": "stdout",
     "output_type": "stream",
     "text": [
      "Joepie! Is toegevoegd! :)\n",
      "{'subPropertyOf': {('Kent', 'Klasgenoten'), ('Klasgenoten', 'Zelfde_universiteit'), ('Kent', 'Zelfde_universiteit')}, 'subClassOf': {}, 'domain': {}, 'range': {}}\n"
     ]
    }
   ],
   "source": [
    "test_subProperty = {'subPropertyOf': {('Kent', 'Klasgenoten'), ('Klasgenoten', 'Zelfde_universiteit')},\n",
    "             'subClassOf': {},\n",
    "             'domain': {},\n",
    "             'range': {}}\n",
    "\n",
    "# Moet toevoegen aan subPropertyOf: ('Kent', 'Zelfde_universiteit'), want (A, sp, B) & (B, sp, C) dan (A, sp, C)\n",
    "\n",
    "if ('Kent', 'Zelfde_universiteit') in complete(test_subProperty)['subPropertyOf']:\n",
    "    print('Joepie! Is toegevoegd! :)')\n",
    "    \n",
    "print(complete(test_subProperty))"
   ]
  },
  {
   "cell_type": "code",
   "execution_count": 13,
   "metadata": {},
   "outputs": [
    {
     "name": "stdout",
     "output_type": "stream",
     "text": [
      "Joepie! Is toegevoegd! :)\n",
      "{'subPropertyOf': {}, 'subClassOf': {('Nederland', 'Europa'), ('Nederland', 'Wereld'), ('Europa', 'Wereld')}, 'domain': {}, 'range': {}}\n"
     ]
    }
   ],
   "source": [
    "test_subClass = {'subPropertyOf': {},\n",
    "             'subClassOf': {('Nederland', 'Europa'), ('Europa', 'Wereld')},\n",
    "             'domain': {},\n",
    "             'range': {}}\n",
    "\n",
    "# Moet toevoegen aan subPropertyOf: ('Nederland', 'Wereld'), want (A, sc, B) & (B, sc, C) dan (A, sc, C)\n",
    "\n",
    "if ('Nederland', 'Wereld') in complete(test_subClass)['subClassOf']:\n",
    "    print('Joepie! Is toegevoegd! :)')\n",
    "    \n",
    "print(complete(test_subClass))"
   ]
  },
  {
   "cell_type": "code",
   "execution_count": 14,
   "metadata": {},
   "outputs": [
    {
     "name": "stdout",
     "output_type": "stream",
     "text": [
      "Joepie! Is toegevoegd! :)\n",
      "{'subPropertyOf': {('Studiegenoot', 'Kent')}, 'subClassOf': {}, 'domain': {('Studiegenoot', 'Mens'), ('Kent', 'Mens')}, 'range': {}}\n"
     ]
    }
   ],
   "source": [
    "test_domain1 = {'subPropertyOf': {('Studiegenoot', 'Kent')},\n",
    "             'subClassOf': {},\n",
    "             'domain': {('Kent', 'Mens')},\n",
    "             'range': {}}\n",
    "\n",
    "# Moet toevoegen aan domain: ('Studiegenoot', 'Mens'), want (A, sp, B) & (B, dom, C) dan (A, dom, C)\n",
    "\n",
    "if ('Studiegenoot', 'Mens') in complete(test_domain1)['domain']:\n",
    "    print('Joepie! Is toegevoegd! :)')\n",
    "    \n",
    "print(complete(test_domain1))"
   ]
  },
  {
   "cell_type": "code",
   "execution_count": 15,
   "metadata": {},
   "outputs": [
    {
     "name": "stdout",
     "output_type": "stream",
     "text": [
      "Joepie! Is toegevoegd! :)\n",
      "{'subPropertyOf': {('Studiegenoot', 'Kent')}, 'subClassOf': {}, 'domain': {('Studiegenoot', 'Mens'), ('Kent', 'Mens')}, 'range': {}}\n"
     ]
    }
   ],
   "source": [
    "test_domain2 = {'subPropertyOf': {},\n",
    "             'subClassOf': {('Mens', 'Dier')},\n",
    "             'domain': {('Houdt_van', 'Mens')},\n",
    "             'range': {}}\n",
    "\n",
    "# Moet toevoegen aan domain: ('Houdt_van','Dier'), want (A, dom, B) & (B, sc, C) dan (A, dom, C)\n",
    "\n",
    "if ('Houdt_van', 'Dier') in complete(test_domain2)['domain']:\n",
    "    print('Joepie! Is toegevoegd! :)')\n",
    "    \n",
    "print(complete(test_domain1))"
   ]
  },
  {
   "cell_type": "code",
   "execution_count": null,
   "metadata": {},
   "outputs": [],
   "source": []
  }
 ],
 "metadata": {
  "kernelspec": {
   "display_name": "Python 3",
   "language": "python",
   "name": "python3"
  },
  "language_info": {
   "codemirror_mode": {
    "name": "ipython",
    "version": 3
   },
   "file_extension": ".py",
   "mimetype": "text/x-python",
   "name": "python",
   "nbconvert_exporter": "python",
   "pygments_lexer": "ipython3",
   "version": "3.7.4"
  },
  "toc": {
   "nav_menu": {},
   "number_sections": true,
   "sideBar": true,
   "skip_h1_title": false,
   "title_cell": "Table of Contents",
   "title_sidebar": "Contents",
   "toc_cell": true,
   "toc_position": {},
   "toc_section_display": true,
   "toc_window_display": false
  }
 },
 "nbformat": 4,
 "nbformat_minor": 2
}
